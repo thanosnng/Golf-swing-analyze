{
 "cells": [
  {
   "cell_type": "markdown",
   "metadata": {},
   "source": [
    "## 어드레스 자세 탐지 시 머리 초기값 저장\n",
    "---\n",
    "### 수정한 부분 \n",
    "1. save_initial_left_arm_position 함수 추가\n",
    "2. check_swing_end 함수 추가\n",
    "3. check_swing_end의 if문 값을 조정"
   ]
  },
  {
   "cell_type": "markdown",
   "metadata": {},
   "source": [
    "# 스윙종료 ver1\n",
    "\n",
    "### 조건\n",
    "- is_address_pose(keypoints_with_scores, 0.5)\n",
    "- required_continuous_frames = 20\n",
    "### 현상\n",
    "1. 어드레스 감지 후 초기 팔 위치 저장\n",
    "2. 스윙 종료 판별 가능\n",
    "3. but, 목표(공 임펙트 후 스윙 종료)가 아닌 피니쉬자세에서 스윙종료 감지\n",
    "4. 그 이유는 왼팔의 초기값보다 왼쪽으로 가는 연속된 프레임의 수를 20으로 지정했기 때문 -> 조정 필요"
   ]
  },
  {
   "cell_type": "markdown",
   "metadata": {},
   "source": [
    "# 0. Install and Import Dependencies"
   ]
  },
  {
   "cell_type": "code",
   "execution_count": 197,
   "metadata": {},
   "outputs": [],
   "source": [
    "#!pip install tensorflow==2.16.1 opencv-python matplotlib"
   ]
  },
  {
   "cell_type": "code",
   "execution_count": 198,
   "metadata": {},
   "outputs": [],
   "source": [
    "import tensorflow as tf\n",
    "import numpy as np\n",
    "from matplotlib import pyplot as plt\n",
    "import cv2\n",
    "import time"
   ]
  },
  {
   "cell_type": "code",
   "execution_count": 199,
   "metadata": {},
   "outputs": [],
   "source": [
    "# 초기 상태 저장을 위한 전역 변수 선언\n",
    "initial_horizontal_change = None\n",
    "initial_vertical_change = None\n",
    "initial_lateral_change = None"
   ]
  },
  {
   "cell_type": "code",
   "execution_count": 200,
   "metadata": {},
   "outputs": [],
   "source": [
    "initial_left_arm_position = None  # 왼쪽 팔 키포인트의 초기 위치를 저장할 전역 변수\n",
    "address_pose_detected = False  # 어드레스 자세 감지 여부를 추적하는 변수\n",
    "swing_ended = True  # 스윙 종료 여부를 추적하는 변수"
   ]
  },
  {
   "cell_type": "markdown",
   "metadata": {},
   "source": [
    "# 1. Load Model + Draw Keypoints + Draw Edges"
   ]
  },
  {
   "cell_type": "code",
   "execution_count": 201,
   "metadata": {},
   "outputs": [],
   "source": [
    "interpreter = tf.lite.Interpreter(model_path='movenet_lighting_tflite_float16.tflite')\n",
    "interpreter.allocate_tensors()"
   ]
  },
  {
   "cell_type": "code",
   "execution_count": 202,
   "metadata": {},
   "outputs": [],
   "source": [
    "def draw_keypoints(frame, keypoints, confidence_threshold):\n",
    "    y, x, c = frame.shape\n",
    "    shaped = np.squeeze(np.multiply(keypoints, [y,x,1]))\n",
    "    \n",
    "    for kp in shaped:\n",
    "        ky, kx, kp_conf = kp\n",
    "        if kp_conf > confidence_threshold:\n",
    "            cv2.circle(frame, (int(kx), int(ky)), 4, (0,255,0), -1) "
   ]
  },
  {
   "cell_type": "code",
   "execution_count": 203,
   "metadata": {},
   "outputs": [],
   "source": [
    "def draw_connections(frame, keypoints, edges, confidence_threshold):\n",
    "    y, x, c = frame.shape\n",
    "    shaped = np.squeeze(np.multiply(keypoints, [y,x,1]))\n",
    "    \n",
    "    for edge, color in edges.items():\n",
    "        p1, p2 = edge\n",
    "        y1, x1, c1 = shaped[p1]\n",
    "        y2, x2, c2 = shaped[p2]\n",
    "        \n",
    "        if (c1 > confidence_threshold) & (c2 > confidence_threshold):      \n",
    "            cv2.line(frame, (int(x1), int(y1)), (int(x2), int(y2)), (0,0,255), 2)"
   ]
  },
  {
   "cell_type": "code",
   "execution_count": 204,
   "metadata": {},
   "outputs": [],
   "source": [
    "# 어깨 중간과 엉덩이 중간에 세로선 그리기 추가\n",
    "def draw_midline(frame, keypoints, confidence_threshold):\n",
    "    y, x, c = frame.shape\n",
    "    shaped = np.squeeze(np.multiply(keypoints, [y, x, 1]))\n",
    "\n",
    "    shoulder_mid = (shaped[5][:2] + shaped[6][:2]) / 2\n",
    "    hip_mid = (shaped[11][:2] + shaped[12][:2]) / 2\n",
    "\n",
    "    if (shaped[5][2] > confidence_threshold and shaped[6][2] > confidence_threshold and\n",
    "            shaped[11][2] > confidence_threshold and shaped[12][2] > confidence_threshold):\n",
    "        cv2.line(frame, (int(shoulder_mid[1]), int(shoulder_mid[0])), (int(hip_mid[1]), int(hip_mid[0])), (255, 0, 0), 2)\n"
   ]
  },
  {
   "cell_type": "code",
   "execution_count": 205,
   "metadata": {},
   "outputs": [],
   "source": [
    "def draw_face_vertical_line(frame, keypoints, confidence_threshold):\n",
    "    y, x, c = frame.shape\n",
    "    shaped = np.squeeze(np.multiply(keypoints, [y, x, 1]))\n",
    "\n",
    "    # 머리 상단과 목 위치를 사용하여 대략적인 이마와 턱의 위치 추정\n",
    "    head_top = shaped[0][:2]  # 머리 상단(이마로 가정)\n",
    "    neck = shaped[1][:2]  # 목(턱 근처로 가정)\n",
    "\n",
    "    if (shaped[0][2] > confidence_threshold and shaped[1][2] > confidence_threshold):\n",
    "        # 이마에서 턱까지의 선 그리기\n",
    "        cv2.line(frame, (int(head_top[1]), int(head_top[0])), (int(neck[1]), int(neck[0])), (0, 0, 255), 2)\n"
   ]
  },
  {
   "cell_type": "code",
   "execution_count": 206,
   "metadata": {},
   "outputs": [],
   "source": [
    "def is_address_pose(keypoints_with_scores, confidence_threshold=0.4):\n",
    "    keypoints = np.squeeze(keypoints_with_scores)\n",
    "    \n",
    "    # 키포인트 신뢰도 체크\n",
    "    if (keypoints[5][2] < confidence_threshold or keypoints[6][2] < confidence_threshold or\n",
    "        keypoints[11][2] < confidence_threshold or keypoints[12][2] < confidence_threshold):\n",
    "        return False  # 신뢰도가 임계값 미만인 키포인트가 있으면 어드레스 자세로 판단하지 않음\n",
    "\n",
    "    # 어깨와 골반의 중간점 계산\n",
    "    shoulder_midpoint = (keypoints[5][:2] + keypoints[6][:2]) / 2\n",
    "    hip_midpoint = (keypoints[11][:2] + keypoints[12][:2]) / 2\n",
    "\n",
    "    # 어깨와 골반의 높이 차이 계산\n",
    "    vertical_diff = abs(shoulder_midpoint[1] - hip_midpoint[1])\n",
    "    \n",
    "    # 머리-목 각도와 목-골반 각도를 계산\n",
    "    head_point = keypoints[0, :2]\n",
    "    neck_point = keypoints[1, :2]\n",
    "    hip_center = (keypoints[11, :2] + keypoints[12, :2]) / 2\n",
    "    head_neck_angle = calculate_angle(head_point, neck_point)\n",
    "    neck_hip_angle = calculate_angle(neck_point, hip_center)\n",
    "    \n",
    "    # 각도 차이를 계산\n",
    "    angle_diff = abs(head_neck_angle - neck_hip_angle)\n",
    "    \n",
    "    # 높이 차이와 각도 차이를 기반으로 어드레스 자세와 몸통의 직선성 판별\n",
    "    vertical_diff_threshold = 5  # 높이 차이 임계값\n",
    "    if vertical_diff < vertical_diff_threshold and (angle_diff < 165 and angle_diff > 145):\n",
    "        # print(f\"angle_diff : {angle_diff}\")\n",
    "        return True  # 어드레스 자세이며 몸통이 직선임\n",
    "    else:\n",
    "        return False"
   ]
  },
  {
   "cell_type": "code",
   "execution_count": 207,
   "metadata": {},
   "outputs": [],
   "source": [
    "def calculate_angle(p1, p2):\n",
    "    \"\"\"두 점 p1, p2 간의 각도를 계산합니다.\"\"\"\n",
    "    angle = np.arctan2(p2[1] - p1[1], p2[0] - p1[0]) * 180.0 / np.pi\n",
    "    return angle"
   ]
  },
  {
   "cell_type": "code",
   "execution_count": 208,
   "metadata": {},
   "outputs": [],
   "source": [
    "def calculate_distance(p1, p2):\n",
    "    \"\"\"두 점 p1, p2 사이의 유클리드 거리를 계산합니다.\"\"\"\n",
    "    return np.linalg.norm(np.array(p1) - np.array(p2))"
   ]
  },
  {
   "cell_type": "code",
   "execution_count": 209,
   "metadata": {},
   "outputs": [],
   "source": [
    "def analyze_face_pose(keypoints):\n",
    "    nose = keypoints[0]  # 코\n",
    "    left_ear = keypoints[3]  # 왼쪽 귀\n",
    "    right_ear = keypoints[4]  # 오른쪽 귀\n",
    "    neck = keypoints[1]  # 목\n",
    "\n",
    "    # 수평 변화 감지: 귀와 귀 사이의 거리\n",
    "    horizontal_change = calculate_distance(left_ear[:2], right_ear[:2])\n",
    "    print(f\"수평 변화 거리: {horizontal_change:.2f}\")\n",
    "\n",
    "    # 높이 변화 감지: 코와 목 사이의 거리\n",
    "    vertical_change = calculate_distance(nose[:2], neck[:2])\n",
    "    print(f\"높이 변화 거리: {vertical_change:.2f}\")\n",
    "\n",
    "    # 좌우 거리 변화 감지: 코와 양쪽 귀의 중점 사이의 거리\n",
    "    ears_midpoint = ((left_ear[0] + right_ear[0]) / 2, (left_ear[1] + right_ear[1]) / 2)\n",
    "    lateral_change = calculate_distance(nose[:2], ears_midpoint)\n",
    "    print(f\"좌우 거리 변화: {lateral_change:.2f}\")"
   ]
  },
  {
   "cell_type": "code",
   "execution_count": 210,
   "metadata": {},
   "outputs": [],
   "source": [
    "def distance(p1, p2):\n",
    "    \"\"\"두 점 p1, p2 사이의 거리를 계산합니다.\"\"\"\n",
    "    return np.sqrt((p2[0] - p1[0]) ** 2 + (p2[1] - p1[1]) ** 2)"
   ]
  },
  {
   "cell_type": "code",
   "execution_count": 211,
   "metadata": {},
   "outputs": [],
   "source": [
    "def save_initial_state_face(keypoints):\n",
    "    global initial_horizontal_change, initial_vertical_change, initial_lateral_change\n",
    "    # 초기 상태 계산 및 저장\n",
    "    nose = keypoints[0]\n",
    "    left_ear = keypoints[3]\n",
    "    right_ear = keypoints[4]\n",
    "    neck = keypoints[1]\n",
    "\n",
    "    initial_horizontal_change = calculate_distance(left_ear[:2], right_ear[:2])\n",
    "    initial_vertical_change = calculate_distance(nose[:2], neck[:2])\n",
    "    ears_midpoint = ((left_ear[0] + right_ear[0]) / 2, (left_ear[1] + right_ear[1]) / 2)\n",
    "    initial_lateral_change = calculate_distance(nose[:2], ears_midpoint)"
   ]
  },
  {
   "cell_type": "code",
   "execution_count": 212,
   "metadata": {},
   "outputs": [],
   "source": [
    "def analyze_swing_from_initial_face(keypoints):\n",
    "    # 현재 상태 계산\n",
    "    nose = keypoints[0]\n",
    "    left_ear = keypoints[3]\n",
    "    right_ear = keypoints[4]\n",
    "    neck = keypoints[1]\n",
    "\n",
    "    current_horizontal_change = calculate_distance(left_ear[:2], right_ear[:2])\n",
    "    current_vertical_change = calculate_distance(nose[:2], neck[:2])\n",
    "    ears_midpoint = ((left_ear[0] + right_ear[0]) / 2, (left_ear[1] + right_ear[1]) / 2)\n",
    "    current_lateral_change = calculate_distance(nose[:2], ears_midpoint)\n",
    "\n",
    "    # 초기 상태와 비교\n",
    "    horizontal_movement = current_horizontal_change - initial_horizontal_change\n",
    "    vertical_movement = current_vertical_change - initial_vertical_change\n",
    "    lateral_movement = current_lateral_change - initial_lateral_change\n",
    "\n",
    "    print(f\"스윙 수평 변화: {horizontal_movement:.2f}, 스윙 높이 변화: {vertical_movement:.2f}, 스윙 좌우 변화: {lateral_movement:.2f}\")"
   ]
  },
  {
   "cell_type": "code",
   "execution_count": 213,
   "metadata": {},
   "outputs": [],
   "source": [
    "def save_initial_left_arm_position(keypoints):\n",
    "    global initial_left_arm_position\n",
    "    # 왼쪽 팔(어깨)의 키포인트 위치를 저장합니다.\n",
    "    left_shoulder = keypoints[9][:2]  # 왼쪽 어깨의 키포인트 인덱스는 5번입니다.\n",
    "    initial_left_arm_position = left_shoulder\n"
   ]
  },
  {
   "cell_type": "code",
   "execution_count": 214,
   "metadata": {},
   "outputs": [],
   "source": [
    "# 왼쪽 어깨의 x 좌표 변화를 추적할 리스트\n",
    "left_shoulder_movement_history = []\n",
    "# 스윙 종료를 간주하기 위해 요구되는 연속 프레임 수\n",
    "required_continuous_frames = 20"
   ]
  },
  {
   "cell_type": "code",
   "execution_count": 215,
   "metadata": {},
   "outputs": [],
   "source": [
    "def update_left_shoulder_movement_history(current_left_shoulder_x):\n",
    "    # 현재 왼쪽 어깨의 x 좌표를 이동 추적 리스트에 추가\n",
    "    left_shoulder_movement_history.append(current_left_shoulder_x)\n",
    "    # 리스트가 요구되는 프레임 수보다 길어지면 가장 오래된 원소 제거\n",
    "    if len(left_shoulder_movement_history) > required_continuous_frames:\n",
    "        left_shoulder_movement_history.pop(0)"
   ]
  },
  {
   "cell_type": "code",
   "execution_count": 216,
   "metadata": {},
   "outputs": [],
   "source": [
    "def check_continuous_movement_to_left():\n",
    "    # 이동 추적 리스트의 길이가 요구되는 프레임 수에 도달했는지 확인\n",
    "    if len(left_shoulder_movement_history) == required_continuous_frames:\n",
    "        # 리스트의 모든 원소가 초기 위치보다 왼쪽인지 확인\n",
    "        if all(x < initial_left_shoulder_x for x in left_shoulder_movement_history):\n",
    "            return True\n",
    "    return False"
   ]
  },
  {
   "cell_type": "code",
   "execution_count": 217,
   "metadata": {},
   "outputs": [],
   "source": [
    "def check_swing_end(current_left_shoulder_x):\n",
    "    global swing_ended\n",
    "    update_left_shoulder_movement_history(current_left_shoulder_x)\n",
    "\n",
    "    if check_continuous_movement_to_left():\n",
    "        print(\"스윙 종료 감지됨. 어드레스 자세 탐지로 돌아갑니다.\")\n",
    "        swing_ended = True\n",
    "        # 스윙 종료 후 초기화 작업\n",
    "        left_shoulder_movement_history.clear()\n",
    "        return True\n",
    "    return False"
   ]
  },
  {
   "cell_type": "code",
   "execution_count": 218,
   "metadata": {},
   "outputs": [],
   "source": [
    "# def check_swing_end(keypoints):\n",
    "#     global swing_ended\n",
    "#     # 현재 프레임에서 왼쪽 팔(어깨)의 키포인트 위치를 계산합니다.\n",
    "#     current_left_shoulder = keypoints[9][:2]\n",
    "    \n",
    "#     # 초기 위치와 현재 위치를 비교하여 왼쪽으로 이동했는지 판단합니다.\n",
    "#     if initial_left_arm_position is not None and current_left_shoulder[0] < initial_left_arm_position[0]:\n",
    "#         print(\"스윙 종료 감지됨. 어드레스 자세 탐지로 돌아갑니다.\")\n",
    "#         print(current_left_shoulder[0])\n",
    "#         swing_ended = True\n",
    "#         return True\n",
    "#     return False\n"
   ]
  },
  {
   "cell_type": "code",
   "execution_count": 219,
   "metadata": {},
   "outputs": [],
   "source": [
    "EDGES = {\n",
    "    (0, 1): 'm',\n",
    "    (0, 2): 'c',\n",
    "    (1, 3): 'm',\n",
    "    (2, 4): 'c',\n",
    "    (0, 5): 'm',\n",
    "    (0, 6): 'c',\n",
    "    (5, 7): 'm',\n",
    "    (7, 9): 'm',\n",
    "    (6, 8): 'c',\n",
    "    (8, 10): 'c',\n",
    "    (5, 6): 'y',\n",
    "    (5, 11): 'm',\n",
    "    (6, 12): 'c',\n",
    "    (11, 12): 'y',\n",
    "    (11, 13): 'm',\n",
    "    (13, 15): 'm',\n",
    "    (12, 14): 'c',\n",
    "    (14, 16): 'c'\n",
    "}"
   ]
  },
  {
   "cell_type": "code",
   "execution_count": 220,
   "metadata": {},
   "outputs": [
    {
     "data": {
      "text/plain": [
       "[{'name': 'StatefulPartitionedCall:0',\n",
       "  'index': 316,\n",
       "  'shape': array([ 1,  1, 17,  3]),\n",
       "  'shape_signature': array([ 1,  1, 17,  3]),\n",
       "  'dtype': numpy.float32,\n",
       "  'quantization': (0.0, 0),\n",
       "  'quantization_parameters': {'scales': array([], dtype=float32),\n",
       "   'zero_points': array([], dtype=int32),\n",
       "   'quantized_dimension': 0},\n",
       "  'sparsity_parameters': {}}]"
      ]
     },
     "execution_count": 220,
     "metadata": {},
     "output_type": "execute_result"
    }
   ],
   "source": [
    "interpreter.get_output_details()"
   ]
  },
  {
   "cell_type": "code",
   "execution_count": 221,
   "metadata": {},
   "outputs": [],
   "source": [
    "shaped = np.squeeze(np.multiply(interpreter.get_tensor(interpreter.get_output_details()[0]['index']), [480,640,1]))"
   ]
  },
  {
   "cell_type": "code",
   "execution_count": 222,
   "metadata": {},
   "outputs": [
    {
     "name": "stdout",
     "output_type": "stream",
     "text": [
      "(0, 0)\n",
      "(0, 0)\n",
      "(0, 0)\n",
      "(0, 0)\n",
      "(0, 0)\n",
      "(0, 0)\n",
      "(0, 0)\n",
      "(0, 0)\n",
      "(0, 0)\n",
      "(0, 0)\n",
      "(0, 0)\n",
      "(0, 0)\n",
      "(0, 0)\n",
      "(0, 0)\n",
      "(0, 0)\n",
      "(0, 0)\n",
      "(0, 0)\n",
      "(0, 0)\n"
     ]
    }
   ],
   "source": [
    "for edge, color in EDGES.items():\n",
    "    p1, p2 = edge\n",
    "    y1, x1, c1 = shaped[p1]\n",
    "    y2, x2, c2 = shaped[p2]\n",
    "    print((int(x2), int(y2)))"
   ]
  },
  {
   "cell_type": "code",
   "execution_count": 223,
   "metadata": {},
   "outputs": [
    {
     "name": "stdout",
     "output_type": "stream",
     "text": [
      "0 0 0.0\n",
      "0 0 0.0\n",
      "0 0 0.0\n",
      "0 0 0.0\n",
      "0 0 0.0\n",
      "0 0 0.0\n",
      "0 0 0.0\n",
      "0 0 0.0\n",
      "0 0 0.0\n",
      "0 0 0.0\n",
      "0 0 0.0\n",
      "0 0 0.0\n",
      "0 0 0.0\n",
      "0 0 0.0\n",
      "0 0 0.0\n",
      "0 0 0.0\n",
      "0 0 0.0\n"
     ]
    }
   ],
   "source": [
    "for kp in shaped:\n",
    "    ky, kx, kp_conf = kp\n",
    "    print(int(ky), int(kx), kp_conf)"
   ]
  },
  {
   "cell_type": "markdown",
   "metadata": {},
   "source": [
    "# 2. Make Detections"
   ]
  },
  {
   "cell_type": "code",
   "execution_count": 224,
   "metadata": {},
   "outputs": [
    {
     "name": "stdout",
     "output_type": "stream",
     "text": [
      "올바른 어드레스 자세 감지됨. 초기 상태를 저장합니다.\n",
      "스윙 종료 감지됨. 어드레스 자세 탐지로 돌아갑니다.\n",
      "올바른 어드레스 자세 감지됨. 초기 상태를 저장합니다.\n",
      "스윙 종료 감지됨. 어드레스 자세 탐지로 돌아갑니다.\n",
      "올바른 어드레스 자세 감지됨. 초기 상태를 저장합니다.\n",
      "스윙 종료 감지됨. 어드레스 자세 탐지로 돌아갑니다.\n",
      "올바른 어드레스 자세 감지됨. 초기 상태를 저장합니다.\n",
      "스윙 종료 감지됨. 어드레스 자세 탐지로 돌아갑니다.\n",
      "올바른 어드레스 자세 감지됨. 초기 상태를 저장합니다.\n",
      "스윙 종료 감지됨. 어드레스 자세 탐지로 돌아갑니다.\n",
      "올바른 어드레스 자세 감지됨. 초기 상태를 저장합니다.\n",
      "스윙 종료 감지됨. 어드레스 자세 탐지로 돌아갑니다.\n",
      "올바른 어드레스 자세 감지됨. 초기 상태를 저장합니다.\n",
      "스윙 종료 감지됨. 어드레스 자세 탐지로 돌아갑니다.\n",
      "올바른 어드레스 자세 감지됨. 초기 상태를 저장합니다.\n",
      "스윙 종료 감지됨. 어드레스 자세 탐지로 돌아갑니다.\n",
      "올바른 어드레스 자세 감지됨. 초기 상태를 저장합니다.\n",
      "스윙 종료 감지됨. 어드레스 자세 탐지로 돌아갑니다.\n",
      "올바른 어드레스 자세 감지됨. 초기 상태를 저장합니다.\n",
      "스윙 종료 감지됨. 어드레스 자세 탐지로 돌아갑니다.\n"
     ]
    }
   ],
   "source": [
    "cap = cv2.VideoCapture(0)\n",
    "\n",
    "# 어드레스 자세가 감지되었는지 여부를 추적하는 플래그\n",
    "address_pose_detected = False\n",
    "\n",
    "while cap.isOpened():\n",
    "    ret, frame = cap.read()\n",
    "    if not ret:\n",
    "        break\n",
    "    \n",
    "    # Reshape image\n",
    "    img = frame.copy()\n",
    "    img = tf.image.resize_with_pad(np.expand_dims(img, axis=0), 192,192)\n",
    "    \n",
    "    # input_image = tf.cast(img, dtype=tf.float32)\n",
    "    # 모델이 요구하는 입력 타입에 맞게 타입 변환\n",
    "    input_image = tf.cast(img, dtype=tf.uint8)  # dtype을 tf.float32에서 tf.uint8로 변경\n",
    "    \n",
    "    # Setup input and output \n",
    "    input_details = interpreter.get_input_details()\n",
    "    output_details = interpreter.get_output_details()\n",
    "    \n",
    "    # Make predictions \n",
    "    interpreter.set_tensor(input_details[0]['index'], np.array(input_image))\n",
    "    interpreter.invoke()\n",
    "    keypoints_with_scores = interpreter.get_tensor(output_details[0]['index'])\n",
    "\n",
    "    right_eye = keypoints_with_scores[0][0][2]\n",
    "    left_elbow = keypoints_with_scores[0][0][7]\n",
    "\n",
    "    # 키포인트 추출 및 조정\n",
    "    keypoints = np.squeeze(np.multiply(keypoints_with_scores, [frame.shape[0], frame.shape[1], 1]))\n",
    "    keypoints = keypoints[:, :2]  # x, y 좌표만 사용\n",
    "    \n",
    "    # Rendering \n",
    "    draw_connections(frame, keypoints_with_scores, EDGES, 0.4)\n",
    "    draw_keypoints(frame, keypoints_with_scores, 0.4)\n",
    "    \n",
    "    # 기존 렌더링 코드 아래에 세로선 그리기 함수 호출 추가\n",
    "    draw_midline(frame, keypoints_with_scores, 0.4)\n",
    "\n",
    "    # # 어드레스 자세 감지\n",
    "    # if not address_pose_detected and is_address_pose(keypoints_with_scores, 0.4):\n",
    "    #     print(\"올바른 어드레스 자세 감지됨. 초기 상태를 저장합니다.\")\n",
    "    #     save_initial_state_face(keypoints)\n",
    "    #     address_pose_detected = True\n",
    "    \n",
    "    # # 어드레스 자세가 감지된 후 스윙 분석\n",
    "    # elif address_pose_detected:\n",
    "    #     analyze_swing_from_initial_face(keypoints)\n",
    "    #     # 추가적인 스윙 분석 로직이 필요하면 여기에 구현합니다.\n",
    "\n",
    "    # if not address_pose_detected:\n",
    "    #     # 어드레스 자세 감지 로직\n",
    "    #     if is_address_pose(keypoints_with_scores, 0.4):\n",
    "    #         print(\"올바른 어드레스 자세 감지됨. 초기 상태를 저장합니다.\")\n",
    "    #         save_initial_left_arm_position(keypoints)\n",
    "    #         address_pose_detected = True\n",
    "    #         swing_ended = False  # 스윙 종료 상태를 초기화합니다.\n",
    "    # elif not swing_ended:\n",
    "    #     # 스윙 분석 및 종료 조건 판단\n",
    "    #     if check_swing_end(keypoints):\n",
    "    #         # 스윙 종료 후 필요한 처리\n",
    "    #         address_pose_detected = False  # 다시 어드레스 자세 감지 상태로 전환\n",
    "    #         # 필요한 경우 추가적인 리셋 로직 구현\n",
    "\n",
    "    if swing_ended:\n",
    "        if is_address_pose(keypoints_with_scores, 0.5):\n",
    "            print(\"올바른 어드레스 자세 감지됨. 초기 상태를 저장합니다.\")\n",
    "            initial_left_shoulder_x = keypoints[9][0]  # 왼쪽 어깨의 x 좌표 저장\n",
    "            address_pose_detected = True\n",
    "            swing_ended = False  # 스윙 시작 상태로 전환\n",
    "            left_shoulder_movement_history.clear()  # 왼쪽 어깨 이동 기록 초기화\n",
    "    else:\n",
    "        # 스윙 중 왼쪽 어깨의 현재 x 좌표\n",
    "        current_left_shoulder_x = keypoints[9][0]\n",
    "        if check_swing_end(current_left_shoulder_x):\n",
    "            # 스윙 종료 후 처리\n",
    "            address_pose_detected = False  # 어드레스 자세 감지 상태로 전환\n",
    "            swing_ended = True  # 스윙 종료 상태로 전환\n",
    "\n",
    "    # 여기에 프레임을 화면에 표시하는 등의 추가 로직을 포함할 수 있습니다.\n",
    "\n",
    "    \n",
    "    cv2.imshow('MoveNet Lightning', frame)\n",
    "    \n",
    "    if cv2.waitKey(10) & 0xFF==ord('q'):\n",
    "        break\n",
    "        \n",
    "cap.release()\n",
    "cv2.destroyAllWindows()"
   ]
  },
  {
   "cell_type": "code",
   "execution_count": null,
   "metadata": {},
   "outputs": [],
   "source": []
  }
 ],
 "metadata": {
  "kernelspec": {
   "display_name": "Python 3 (ipykernel)",
   "language": "python",
   "name": "python3"
  },
  "language_info": {
   "codemirror_mode": {
    "name": "ipython",
    "version": 3
   },
   "file_extension": ".py",
   "mimetype": "text/x-python",
   "name": "python",
   "nbconvert_exporter": "python",
   "pygments_lexer": "ipython3",
   "version": "3.11.5"
  }
 },
 "nbformat": 4,
 "nbformat_minor": 4
}
