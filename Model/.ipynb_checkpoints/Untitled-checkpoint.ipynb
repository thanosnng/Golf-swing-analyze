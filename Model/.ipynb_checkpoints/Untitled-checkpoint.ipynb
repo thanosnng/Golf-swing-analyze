{
 "cells": [
  {
   "cell_type": "code",
   "execution_count": 2,
   "id": "a88446ac-fc05-498d-b05c-682119ddb79e",
   "metadata": {},
   "outputs": [],
   "source": [
    "def abc(a,b):\n",
    "    print(\"1213133131 전\")\n",
    "    c = a+b\n",
    "    print(\"asdadasdsadadd 후\")\n",
    "    print(c)\n",
    "    if c>=10:\n",
    "        return True\n",
    "    else: \n",
    "        return False\n",
    "    return c"
   ]
  },
  {
   "cell_type": "code",
   "execution_count": 3,
   "id": "87771b3b-99c5-418e-8ab7-d472a6b6187a",
   "metadata": {},
   "outputs": [
    {
     "name": "stdout",
     "output_type": "stream",
     "text": [
      "1213133131 전\n",
      "asdadasdsadadd 후\n",
      "12\n"
     ]
    },
    {
     "data": {
      "text/plain": [
       "True"
      ]
     },
     "execution_count": 3,
     "metadata": {},
     "output_type": "execute_result"
    }
   ],
   "source": [
    "abc(5,7)"
   ]
  },
  {
   "cell_type": "code",
   "execution_count": null,
   "id": "9b9615b5-2795-4242-afcf-c477a0025d6a",
   "metadata": {},
   "outputs": [],
   "source": [
    "print(\"fffffffffffffff\")"
   ]
  }
 ],
 "metadata": {
  "kernelspec": {
   "display_name": "Python 3 (ipykernel)",
   "language": "python",
   "name": "python3"
  },
  "language_info": {
   "codemirror_mode": {
    "name": "ipython",
    "version": 3
   },
   "file_extension": ".py",
   "mimetype": "text/x-python",
   "name": "python",
   "nbconvert_exporter": "python",
   "pygments_lexer": "ipython3",
   "version": "3.11.5"
  }
 },
 "nbformat": 4,
 "nbformat_minor": 5
}
